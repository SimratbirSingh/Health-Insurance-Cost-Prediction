{
 "cells": [
  {
   "cell_type": "code",
   "execution_count": 1,
   "metadata": {
    "id": "15vW_GvjF3-W"
   },
   "outputs": [],
   "source": [
    "import pandas as pd\n",
    "import numpy as np\n",
    "import matplotlib.pyplot as plt\n",
    "import seaborn as sns\n",
    "import plotly.express as px\n",
    "import plotly.graph_objects as go\n",
    "import warnings\n",
    "warnings.filterwarnings('ignore')"
   ]
  },
  {
   "cell_type": "code",
   "execution_count": null,
   "metadata": {
    "id": "TY35BthJ6cdM"
   },
   "outputs": [],
   "source": [
    "df=pd.read_csv('/content/insurance.csv')"
   ]
  },
  {
   "cell_type": "code",
   "execution_count": null,
   "metadata": {
    "colab": {
     "base_uri": "https://localhost:8080/",
     "height": 206
    },
    "id": "6fQLERAn6fkm",
    "outputId": "f64bbd4e-c55c-472f-e170-d4e6c9fcae80"
   },
   "outputs": [],
   "source": [
    "df.head(5)"
   ]
  },
  {
   "cell_type": "code",
   "execution_count": null,
   "metadata": {
    "colab": {
     "base_uri": "https://localhost:8080/"
    },
    "id": "yP7ST34D6jgp",
    "outputId": "c7383f26-2315-4e8a-8015-ccd0761c6469"
   },
   "outputs": [],
   "source": [
    "df.info()"
   ]
  },
  {
   "cell_type": "code",
   "execution_count": null,
   "metadata": {
    "colab": {
     "base_uri": "https://localhost:8080/",
     "height": 300
    },
    "id": "--B9Vkih6nJi",
    "outputId": "6be2bdd7-bc8c-4501-df35-d5f3c0daee65"
   },
   "outputs": [],
   "source": [
    "df.describe()"
   ]
  },
  {
   "cell_type": "code",
   "execution_count": null,
   "metadata": {
    "colab": {
     "base_uri": "https://localhost:8080/"
    },
    "id": "OmYyZjjK6qNA",
    "outputId": "22d1b337-6711-455e-e21f-cc39442f0d9e"
   },
   "outputs": [],
   "source": [
    "df.shape"
   ]
  },
  {
   "cell_type": "code",
   "execution_count": null,
   "metadata": {
    "colab": {
     "base_uri": "https://localhost:8080/"
    },
    "id": "aGwUyYCa6svq",
    "outputId": "860b7ee3-2d80-47af-955f-888c79008a3d"
   },
   "outputs": [],
   "source": [
    "df.isnull().sum()"
   ]
  },
  {
   "cell_type": "code",
   "execution_count": null,
   "metadata": {
    "id": "MNevaTuK6y_N"
   },
   "outputs": [],
   "source": [
    "df.drop_duplicates(inplace=True)"
   ]
  },
  {
   "cell_type": "code",
   "execution_count": null,
   "metadata": {
    "colab": {
     "base_uri": "https://localhost:8080/"
    },
    "id": "8r9_qtHq62V5",
    "outputId": "caec04ab-07b5-4cb5-b390-5c782e0b840b"
   },
   "outputs": [],
   "source": [
    "df.shape"
   ]
  },
  {
   "cell_type": "code",
   "execution_count": null,
   "metadata": {
    "colab": {
     "base_uri": "https://localhost:8080/"
    },
    "id": "qnGf88wg7IBX",
    "outputId": "3251d833-c039-46ef-f6a5-88ae7967a436"
   },
   "outputs": [],
   "source": [
    "print(\"Unique values in each column:\")\n",
    "for column in df.columns:\n",
    "    unique_values = df[column].unique()\n",
    "    print(f\"{column}: {unique_values}\")"
   ]
  },
  {
   "cell_type": "markdown",
   "metadata": {
    "id": "ffKd1BQt8WrI"
   },
   "source": [
    "# **EDA**"
   ]
  },
  {
   "cell_type": "code",
   "execution_count": null,
   "metadata": {
    "colab": {
     "base_uri": "https://localhost:8080/",
     "height": 542
    },
    "id": "W_I9eMLt7lu4",
    "outputId": "77efa8e0-3449-4a21-f898-f1b4c4b98ff3"
   },
   "outputs": [],
   "source": [
    "# Pie chart: Gender-wise distribution\n",
    "fig1 = px.pie(df, names='sex', title='Gender-wise Distribution')\n",
    "fig1.show()"
   ]
  },
  {
   "cell_type": "code",
   "execution_count": null,
   "metadata": {
    "colab": {
     "base_uri": "https://localhost:8080/",
     "height": 542
    },
    "id": "ttUtbiLQ8cy5",
    "outputId": "fde8ff0f-f8cd-4300-aab1-2bf1a74d488c"
   },
   "outputs": [],
   "source": [
    "# Pie chart: Smoker distribution\n",
    "fig2 = px.pie(df, names='smoker', title='Smoker Distribution')\n",
    "fig2.show()"
   ]
  },
  {
   "cell_type": "code",
   "execution_count": null,
   "metadata": {
    "colab": {
     "base_uri": "https://localhost:8080/",
     "height": 542
    },
    "id": "dt6E6kmi8hOF",
    "outputId": "02e48aab-8877-4f77-a89b-5b3f5f3342e2"
   },
   "outputs": [],
   "source": [
    "# Histogram: Number of children\n",
    "fig3 = px.histogram(df, x='children', title='Distribution of Number of Children')\n",
    "fig3.show()"
   ]
  },
  {
   "cell_type": "code",
   "execution_count": null,
   "metadata": {
    "colab": {
     "base_uri": "https://localhost:8080/",
     "height": 542
    },
    "id": "yl3cka6u8lhb",
    "outputId": "b9748804-63b9-4861-a9ee-a2f8ae76b9ef"
   },
   "outputs": [],
   "source": [
    "# Violin plot: Sex vs. BMI\n",
    "fig4 = px.violin(df, x='sex', y='bmi', box=True, points='all', title='Sex vs. BMI')\n",
    "fig4.show()"
   ]
  },
  {
   "cell_type": "code",
   "execution_count": null,
   "metadata": {
    "colab": {
     "base_uri": "https://localhost:8080/",
     "height": 542
    },
    "id": "vRZfhzDC8riB",
    "outputId": "0880807e-103e-4a76-cf66-e698d01c4bbe"
   },
   "outputs": [],
   "source": [
    "# Count plot: Region distribution\n",
    "fig5 = px.histogram(df, x='region', title='Region-wise Distribution', category_orders=dict(region=df['region'].unique()))\n",
    "fig5.show()"
   ]
  },
  {
   "cell_type": "code",
   "execution_count": null,
   "metadata": {
    "colab": {
     "base_uri": "https://localhost:8080/",
     "height": 542
    },
    "id": "-pFXJ1Ut8w2U",
    "outputId": "6ef9b45b-bde1-48e9-f11f-62876dd7a949"
   },
   "outputs": [],
   "source": [
    "# Unique plot: Charges vs. BMI scatter plot with trendline\n",
    "fig6 = px.scatter(df, x='bmi', y='charges', trendline='ols', title='Charges vs. BMI')\n",
    "fig6.show()"
   ]
  },
  {
   "cell_type": "code",
   "execution_count": null,
   "metadata": {
    "id": "8Ol1zufr87jx"
   },
   "outputs": [],
   "source": [
    "from sklearn.preprocessing import StandardScaler, LabelEncoder\n",
    "# Label Encoding for categorical columns\n",
    "label_encoders = {}\n",
    "categorical_columns = ['sex', 'smoker', 'region']\n",
    "\n",
    "for column in categorical_columns:\n",
    "    le = LabelEncoder()\n",
    "    df[column] = le.fit_transform(df[column])\n",
    "    label_encoders[column] = le\n"
   ]
  },
  {
   "cell_type": "code",
   "execution_count": null,
   "metadata": {
    "colab": {
     "base_uri": "https://localhost:8080/",
     "height": 206
    },
    "id": "JfOzRgkg9AAx",
    "outputId": "d867807b-d14f-4220-93ca-174e69fef743"
   },
   "outputs": [],
   "source": [
    "df.head()"
   ]
  },
  {
   "cell_type": "code",
   "execution_count": null,
   "metadata": {
    "colab": {
     "base_uri": "https://localhost:8080/",
     "height": 699
    },
    "id": "eG6Pgpk_-h6L",
    "outputId": "153105ef-9a97-4a06-8433-79f679f313d3"
   },
   "outputs": [],
   "source": [
    "# Correlation matrix\n",
    "plt.figure(figsize=(10, 8))\n",
    "corr_matrix = df.corr()\n",
    "sns.heatmap(corr_matrix, annot=True, cmap='coolwarm', linewidths=0.5)\n",
    "plt.title('Correlation Matrix')\n",
    "plt.show()"
   ]
  },
  {
   "cell_type": "code",
   "execution_count": null,
   "metadata": {
    "colab": {
     "base_uri": "https://localhost:8080/",
     "height": 691
    },
    "id": "EFPGQRKq-ob1",
    "outputId": "d49dd223-b33d-4a6d-f87e-88112e8e2c5d"
   },
   "outputs": [],
   "source": [
    "# Box plots for each column before removing outliers\n",
    "plt.figure(figsize=(15, 10))\n",
    "\n",
    "for i, column in enumerate(df.columns, 1):\n",
    "    plt.subplot(3, 3, i)\n",
    "    sns.boxplot(y=df[column])\n",
    "    plt.title(f'Box Plot of {column}')\n",
    "\n",
    "plt.tight_layout()\n",
    "plt.show()"
   ]
  },
  {
   "cell_type": "code",
   "execution_count": null,
   "metadata": {
    "colab": {
     "base_uri": "https://localhost:8080/",
     "height": 691
    },
    "id": "HrSxqKBg-6gH",
    "outputId": "685cdf53-5870-43b4-f135-4a5b8d1b4478"
   },
   "outputs": [],
   "source": [
    "# Function to remove outliers using IQR\n",
    "def remove_outliers(df, column):\n",
    "    Q1 = df[column].quantile(0.25)\n",
    "    Q3 = df[column].quantile(0.75)\n",
    "    IQR = Q3 - Q1\n",
    "    lower_bound = Q1 - 1.5 * IQR\n",
    "    upper_bound = Q3 + 1.5 * IQR\n",
    "    df = df[(df[column] >= lower_bound) & (df[column] <= upper_bound)]\n",
    "    return df\n",
    "\n",
    "# Removing outliers for each column\n",
    "df2 = df.copy()\n",
    "for column in df.columns:\n",
    "    if column != 'charges':  # Assuming 'charges' is our target and we won't remove outliers from the target variable\n",
    "        df2 = remove_outliers(df2, column)\n",
    "\n",
    "# Box plots for each column after removing outliers\n",
    "plt.figure(figsize=(15, 10))\n",
    "\n",
    "for i, column in enumerate(df2.columns, 1):\n",
    "    plt.subplot(3, 3, i)\n",
    "    sns.boxplot(y=df2[column])\n",
    "    plt.title(f'Box Plot of {column} (Outliers Removed)')\n",
    "\n",
    "plt.tight_layout()\n",
    "plt.show()\n"
   ]
  },
  {
   "cell_type": "markdown",
   "metadata": {
    "id": "06Fh5X1S_Ndk"
   },
   "source": [
    "# **Multiple_Linear_Regression**"
   ]
  },
  {
   "cell_type": "code",
   "execution_count": null,
   "metadata": {
    "colab": {
     "base_uri": "https://localhost:8080/",
     "height": 633
    },
    "id": "pSezOB1T_Rek",
    "outputId": "f4afca07-f512-44dc-b226-1632bce508bf"
   },
   "outputs": [],
   "source": [
    "from sklearn.model_selection import train_test_split\n",
    "from sklearn.metrics import r2_score, mean_squared_error, mean_absolute_percentage_error\n",
    "from sklearn.linear_model import LinearRegression\n",
    "\n",
    "# Splitting the data into features and target\n",
    "X = df2.drop('charges', axis=1)\n",
    "y = df2['charges']\n",
    "\n",
    "# Train-test split\n",
    "X_train, X_test, y_train, y_test = train_test_split(X, y, test_size=0.2, random_state=42)\n",
    "\n",
    "# Initializing and training the Linear Regression model\n",
    "model_lr = LinearRegression()\n",
    "model_lr.fit(X_train, y_train)\n",
    "\n",
    "# Making predictions\n",
    "y_pred = model_lr.predict(X_test)\n",
    "\n",
    "# Calculating performance metrics\n",
    "accuracy_lr = r2_score(y_test, y_pred)\n",
    "mse_lr = mean_squared_error(y_test, y_pred)\n",
    "rmse_lr = np.sqrt(mse_lr)\n",
    "mape_lr = mean_absolute_percentage_error(y_test, y_pred)\n",
    "\n",
    "# Printing the performance metrics\n",
    "print(f\"R^2 Score (Linear Regression): {accuracy_lr}\")\n",
    "print(f\"Mean Squared Error (MSE) (Linear Regression): {mse_lr}\")\n",
    "print(f\"Root Mean Squared Error (RMSE) (Linear Regression): {rmse_lr}\")\n",
    "print(f\"Mean Absolute Percentage Error (MAPE) (Linear Regression): {mape_lr}\")\n",
    "\n",
    "# Plotting Actual vs Predicted values for Linear Regression\n",
    "plt.figure(figsize=(10, 6))\n",
    "plt.plot(y_test.values, label='Actual Values', color='b')\n",
    "plt.plot(y_pred, label='Predicted Values', color='r')\n",
    "plt.title('Actual vs Predicted Insurance Charges (Linear Regression)')\n",
    "plt.xlabel('Samples')\n",
    "plt.ylabel('Charges')\n",
    "plt.legend()\n",
    "plt.show()\n"
   ]
  },
  {
   "cell_type": "markdown",
   "metadata": {
    "id": "gPOAMs4-Ae3f"
   },
   "source": [
    "# **Random Forest**"
   ]
  },
  {
   "cell_type": "code",
   "execution_count": null,
   "metadata": {
    "colab": {
     "base_uri": "https://localhost:8080/",
     "height": 633
    },
    "id": "iaa0H6pfAQhK",
    "outputId": "78ec4f60-e691-40fe-8ab1-2e27bdb7f03e"
   },
   "outputs": [],
   "source": [
    "from sklearn.model_selection import train_test_split\n",
    "from sklearn.ensemble import RandomForestRegressor\n",
    "from sklearn.metrics import r2_score, mean_squared_error, mean_absolute_percentage_error\n",
    "\n",
    "# Initializing and training the Random Forest Regressor\n",
    "model_rf = RandomForestRegressor(n_estimators=100, random_state=42)\n",
    "model_rf.fit(X_train, y_train)\n",
    "\n",
    "# Making predictions\n",
    "y_pred = model_rf.predict(X_test)\n",
    "\n",
    "# Calculating performance metrics\n",
    "accuracy_rf = r2_score(y_test, y_pred)\n",
    "mse_rf = mean_squared_error(y_test, y_pred)\n",
    "rmse_rf = np.sqrt(mse_rf)\n",
    "mape_rf = mean_absolute_percentage_error(y_test, y_pred)\n",
    "\n",
    "# Printing the performance metrics\n",
    "print(f\"R^2 Score: {accuracy_rf}\")\n",
    "print(f\"Mean Squared Error (MSE): {mse_rf}\")\n",
    "print(f\"Root Mean Squared Error (RMSE): {rmse_rf}\")\n",
    "print(f\"Mean Absolute Percentage Error (MAPE): {mape_rf}\")\n",
    "\n",
    "# Plotting Actual vs Predicted values\n",
    "plt.figure(figsize=(10, 6))\n",
    "plt.plot(y_test.values, label='Actual Values', color='b')\n",
    "plt.plot(y_pred, label='Predicted Values', color='r')\n",
    "plt.title('Actual vs Predicted Insurance Charges')\n",
    "plt.xlabel('Samples')\n",
    "plt.ylabel('Charges')\n",
    "plt.legend()\n",
    "plt.show()"
   ]
  },
  {
   "cell_type": "markdown",
   "metadata": {
    "id": "TfgxUgWuA-h9"
   },
   "source": [
    "# **Gradient Boosting Machine (GBM)**"
   ]
  },
  {
   "cell_type": "code",
   "execution_count": null,
   "metadata": {
    "colab": {
     "base_uri": "https://localhost:8080/",
     "height": 633
    },
    "id": "Zl0vXag7A3Iq",
    "outputId": "836bf257-0f0e-4a4c-c709-3b7eb8fd4a8d"
   },
   "outputs": [],
   "source": [
    "from sklearn.ensemble import GradientBoostingRegressor\n",
    "\n",
    "# Initialize GBM\n",
    "model_gbm = GradientBoostingRegressor(n_estimators=100, learning_rate=0.1, random_state=42)\n",
    "\n",
    "# Train the model\n",
    "model_gbm.fit(X_train, y_train)\n",
    "\n",
    "# Making predictions\n",
    "y_pred = model_gbm.predict(X_test)\n",
    "\n",
    "# Calculating performance metrics\n",
    "accuracy_gbm = r2_score(y_test, y_pred)\n",
    "mse_gbm = mean_squared_error(y_test, y_pred)\n",
    "rmse_gbm = np.sqrt(mse_gbm)\n",
    "mape_gbm = mean_absolute_percentage_error(y_test, y_pred)\n",
    "\n",
    "# Printing the performance metrics\n",
    "print(f\"R^2 Score (GBM): {accuracy_gbm}\")\n",
    "print(f\"Mean Squared Error (MSE) (GBM): {mse_gbm}\")\n",
    "print(f\"Root Mean Squared Error (RMSE) (GBM): {rmse_gbm}\")\n",
    "print(f\"Mean Absolute Percentage Error (MAPE) (GBM): {mape_gbm}\")\n",
    "\n",
    "# Plotting Actual vs Predicted values for GBM\n",
    "plt.figure(figsize=(10, 6))\n",
    "plt.plot(y_test.values, label='Actual Values', color='b')\n",
    "plt.plot(y_pred, label='Predicted Values', color='r')\n",
    "plt.title('Actual vs Predicted Insurance Charges (GBM)')\n",
    "plt.xlabel('Samples')\n",
    "plt.ylabel('Charges')\n",
    "plt.legend()\n",
    "plt.show()\n"
   ]
  },
  {
   "cell_type": "markdown",
   "metadata": {
    "id": "Ba_9p6_YBT6z"
   },
   "source": [
    "# **XGBOOST**"
   ]
  },
  {
   "cell_type": "code",
   "execution_count": null,
   "metadata": {
    "colab": {
     "base_uri": "https://localhost:8080/",
     "height": 633
    },
    "id": "LvZr2alBBE0Y",
    "outputId": "7b812ea5-bb9b-4810-cc3e-c280cf7b089d"
   },
   "outputs": [],
   "source": [
    "from xgboost import XGBRegressor\n",
    "\n",
    "# Initialize XGBRegressor\n",
    "model_xgb = XGBRegressor(n_estimators=100, learning_rate=0.1, random_state=42)\n",
    "\n",
    "# Train the model\n",
    "model_xgb.fit(X_train, y_train)\n",
    "\n",
    "# Making predictions\n",
    "y_pred = model_xgb.predict(X_test)\n",
    "\n",
    "# Calculating performance metrics\n",
    "accuracy_xgb = r2_score(y_test, y_pred)\n",
    "mse_xgb = mean_squared_error(y_test, y_pred)\n",
    "rmse_xgb = np.sqrt(mse_xgb)\n",
    "mape_xgb = mean_absolute_percentage_error(y_test, y_pred)\n",
    "\n",
    "# Printing the performance metrics\n",
    "print(f\"R^2 Score (XGBoost): {accuracy_xgb}\")\n",
    "print(f\"Mean Squared Error (MSE) (XGBoost): {mse_xgb}\")\n",
    "print(f\"Root Mean Squared Error (RMSE) (XGBoost): {rmse_xgb}\")\n",
    "print(f\"Mean Absolute Percentage Error (MAPE) (XGBoost): {mape_xgb}\")\n",
    "\n",
    "# Plotting Actual vs Predicted values for XGBoost\n",
    "plt.figure(figsize=(10, 6))\n",
    "plt.plot(y_test.values, label='Actual Values', color='b')\n",
    "plt.plot(y_pred, label='Predicted Values', color='r')\n",
    "plt.title('Actual vs Predicted Insurance Charges (XGBoost)')\n",
    "plt.xlabel('Samples')\n",
    "plt.ylabel('Charges')\n",
    "plt.legend()\n",
    "plt.show()\n"
   ]
  },
  {
   "cell_type": "code",
   "execution_count": null,
   "metadata": {
    "colab": {
     "base_uri": "https://localhost:8080/",
     "height": 711
    },
    "id": "TX-bgKLgB-Dw",
    "outputId": "1753dba7-e72c-4b51-f80b-abbf2ebc06e1"
   },
   "outputs": [],
   "source": [
    "# Example values for metrics\n",
    "metrics = {\n",
    "    'Model': ['MLR', 'RF', 'XGBoost', 'GBM'],\n",
    "    'R^2 Score': [accuracy_lr, accuracy_rf, accuracy_xgb, accuracy_gbm],\n",
    "    'MSE': [mse_lr, mse_rf, mse_xgb, mse_gbm],\n",
    "    'RMSE': [rmse_lr, rmse_rf, rmse_xgb, rmse_gbm],\n",
    "    'MAPE': [mape_lr, mape_rf, mape_xgb, mape_gbm]\n",
    "}\n",
    "\n",
    "# Create a DataFrame\n",
    "df_metrics = pd.DataFrame(metrics)\n",
    "\n",
    "# Plotting comparison\n",
    "plt.figure(figsize=(10, 6))\n",
    "\n",
    "# Plot R^2 Score\n",
    "plt.subplot(221)\n",
    "plt.bar(df_metrics['Model'], df_metrics['R^2 Score'], color='b')\n",
    "plt.title('R^2 Score Comparison')\n",
    "plt.ylim(0, 1)\n",
    "\n",
    "# Plot MSE\n",
    "plt.subplot(222)\n",
    "plt.bar(df_metrics['Model'], df_metrics['MSE'], color='g')\n",
    "plt.title('MSE Comparison')\n",
    "\n",
    "# Plot RMSE\n",
    "plt.subplot(223)\n",
    "plt.bar(df_metrics['Model'], df_metrics['RMSE'], color='r')\n",
    "plt.title('RMSE Comparison')\n",
    "\n",
    "# Plot MAPE\n",
    "plt.subplot(224)\n",
    "plt.bar(df_metrics['Model'], df_metrics['MAPE'], color='purple')\n",
    "plt.title('MAPE Comparison')\n",
    "\n",
    "plt.tight_layout()\n",
    "plt.show()\n",
    "\n",
    "# Display the metrics DataFrame\n",
    "print(\"Metrics Comparison:\")\n",
    "print(df_metrics)\n"
   ]
  },
  {
   "cell_type": "code",
   "execution_count": null,
   "metadata": {
    "colab": {
     "base_uri": "https://localhost:8080/",
     "height": 790
    },
    "id": "Ksk-HQePCSzX",
    "outputId": "756807c6-993b-4c75-d140-ef8e7a6c756d"
   },
   "outputs": [],
   "source": [
    "from sklearn.model_selection import cross_val_score, KFold\n",
    "\n",
    "# Initialize the Linear Regression model\n",
    "model_lr = LinearRegression()\n",
    "\n",
    "# Perform 10-fold cross-validation\n",
    "kf = KFold(n_splits=10, shuffle=True, random_state=42)\n",
    "cv_scores = cross_val_score(model_lr, X, y, cv=kf, scoring='r2')\n",
    "\n",
    "# Print accuracy on each iteration\n",
    "print(\"Accuracy on each cross-validation iteration:\")\n",
    "for i, score in enumerate(cv_scores):\n",
    "    print(f\"Iteration {i+1}: {score}\")\n",
    "\n",
    "# Calculate average validated accuracy\n",
    "avg_accuracy = np.mean(cv_scores)\n",
    "print(f\"\\nAverage Validated R^2 Score: {avg_accuracy}\")\n",
    "\n",
    "# Plotting count plot of accuracy at each iteration\n",
    "plt.figure(figsize=(8, 6))\n",
    "plt.bar(range(1, 11), cv_scores, color='skyblue')\n",
    "plt.axhline(y=avg_accuracy, color='r', linestyle='-', label=f'Average R^2 Score: {avg_accuracy:.2f}')\n",
    "plt.title('Cross-Validation R^2 Scores')\n",
    "plt.xlabel('Iteration')\n",
    "plt.ylabel('R^2 Score')\n",
    "plt.xticks(range(1, 11))\n",
    "plt.legend()\n",
    "plt.show()\n"
   ]
  },
  {
   "cell_type": "code",
   "execution_count": null,
   "metadata": {
    "colab": {
     "base_uri": "https://localhost:8080/"
    },
    "id": "Rbxgls2KCpqE",
    "outputId": "573f6a99-77f4-4574-ff0d-cc83421c95d6"
   },
   "outputs": [],
   "source": [
    "import pandas as pd\n",
    "from sklearn.preprocessing import LabelEncoder\n",
    "from sklearn.linear_model import LinearRegression\n",
    "\n",
    "# Assume label_encoders dictionary is already defined from training phase\n",
    "# label_encoders = {'sex': le_sex, 'smoker': le_smoker, 'region': le_region}\n",
    "\n",
    "# Load the trained model (model_lr) and label encoders\n",
    "\n",
    "def predict_insurance_charges(age, sex, bmi, children, smoker, region, model_lr, label_encoders):\n",
    "    # Transform categorical variables using label encoders\n",
    "    sex_encoded = label_encoders['sex'].transform([sex])[0]\n",
    "    smoker_encoded = label_encoders['smoker'].transform([smoker])[0]\n",
    "    region_encoded = label_encoders['region'].transform([region])[0]\n",
    "\n",
    "    # Prepare input data as DataFrame\n",
    "    input_data = pd.DataFrame({\n",
    "        'age': [age],\n",
    "        'sex': [sex_encoded],\n",
    "        'bmi': [bmi],\n",
    "        'children': [children],\n",
    "        'smoker': [smoker_encoded],\n",
    "        'region': [region_encoded]\n",
    "    })\n",
    "\n",
    "    # Make prediction using the trained Linear Regression model\n",
    "    predicted_charge = model_lr.predict(input_data)[0]\n",
    "\n",
    "    return predicted_charge\n",
    "\n",
    "# Example of interactive user input and prediction\n",
    "def main():\n",
    "    print(\"Enter the following details to predict insurance charges:\")\n",
    "    age = int(input(\"Age: \"))\n",
    "    sex = input(\"Sex (male/female): \").strip().lower()\n",
    "    bmi = float(input(\"BMI: \"))\n",
    "    children = int(input(\"Number of children: \"))\n",
    "    smoker = input(\"Smoker (yes/no): \").strip().lower()\n",
    "    region = input(\"Region (northeast, northwest, southeast, southwest): \").strip().lower()\n",
    "\n",
    "    # Ensure valid input for categorical variables\n",
    "    if sex not in ['male', 'female']:\n",
    "        print(\"Invalid input for sex. Please enter 'male' or 'female'.\")\n",
    "        return\n",
    "    if smoker not in ['yes', 'no']:\n",
    "        print(\"Invalid input for smoker. Please enter 'yes' or 'no'.\")\n",
    "        return\n",
    "    if region not in ['northeast', 'northwest', 'southeast', 'southwest']:\n",
    "        print(\"Invalid input for region. Please enter one of: northeast, northwest, southeast, southwest.\")\n",
    "        return\n",
    "\n",
    "    # Call prediction function\n",
    "    predicted_charge = predict_insurance_charges(age, sex, bmi, children, smoker, region, model_lr, label_encoders)\n",
    "\n",
    "    # Display the prediction\n",
    "    print(f\"\\nPredicted Insurance Charge: {predicted_charge:.2f} Rs\")\n",
    "\n",
    "if __name__ == \"__main__\":\n",
    "    main()\n"
   ]
  },
  {
   "cell_type": "code",
   "execution_count": null,
   "metadata": {
    "colab": {
     "base_uri": "https://localhost:8080/"
    },
    "id": "OKNxVKLnDbTC",
    "outputId": "22344ac3-61a0-47ff-95e7-f52e1bf811fb"
   },
   "outputs": [],
   "source": [
    "import joblib\n",
    "\n",
    "# Save the model\n",
    "joblib.dump(model_lr, 'linear_regression_model.pkl')\n",
    "\n",
    "# Save the label encoders\n",
    "joblib.dump(label_encoders, 'label_encoders.pkl')"
   ]
  }
 ],
 "metadata": {
  "colab": {
   "provenance": []
  },
  "kernelspec": {
   "display_name": "Python 3 (ipykernel)",
   "language": "python",
   "name": "python3"
  },
  "language_info": {
   "codemirror_mode": {
    "name": "ipython",
    "version": 3
   },
   "file_extension": ".py",
   "mimetype": "text/x-python",
   "name": "python",
   "nbconvert_exporter": "python",
   "pygments_lexer": "ipython3",
   "version": "3.11.5"
  }
 },
 "nbformat": 4,
 "nbformat_minor": 1
}
